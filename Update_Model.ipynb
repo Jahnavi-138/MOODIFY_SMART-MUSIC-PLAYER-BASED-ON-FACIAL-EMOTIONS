{
 "cells": [
  {
   "cell_type": "code",
   "execution_count": 4,
   "metadata": {},
   "outputs": [
    {
     "name": "stdout",
     "output_type": "stream",
     "text": [
      "Training model...\n",
      "The size of the dataset is 800 images\n",
      "Saving model...\n",
      "Model saved!!\n"
     ]
    }
   ],
   "source": [
    "import numpy as np\n",
    "import glob\n",
    "import cv2\n",
    "\n",
    "fishface=cv2.face.FisherFaceRecognizer_create()\n",
    "\n",
    "\n",
    "\n",
    "emotions=[\"angry\", \"happy\", \"sad\", \"neutral\"]\n",
    "\n",
    "def update(emotions):\n",
    "    run_recognizer(emotions)\n",
    "    print(\"Saving model...\")\n",
    "    fishface.save(\"model2.xml\")\n",
    "    print(\"Model saved!!\")\n",
    "\n",
    "def make_sets(emotions):\n",
    "    training_data=[]\n",
    "    training_label=[]\n",
    "\n",
    "    for emotion in emotions:\n",
    "        training=sorted(glob.glob(\"data/%s/*\" %emotion))\n",
    "        for item in training:\n",
    "            gray=cv2.imread(item,0)\n",
    "            training_data.append(gray)\n",
    "            training_label.append(emotions.index(emotion))\n",
    "    return training_data, training_label\n",
    "    \n",
    "\n",
    "def run_recognizer(emotions):\n",
    "    training_data, training_label=make_sets(emotions)\n",
    "    print(\"Training model...\")\n",
    "    print(\"The size of the dataset is \"+str(len(training_data))+\" images\")\n",
    "    fishface.train(training_data, np.asarray(training_label))\n",
    "update(emotions)"
   ]
  }
 ],
 "metadata": {
  "kernelspec": {
   "display_name": "Python 3",
   "language": "python",
   "name": "python3"
  },
  "language_info": {
   "codemirror_mode": {
    "name": "ipython",
    "version": 3
   },
   "file_extension": ".py",
   "mimetype": "text/x-python",
   "name": "python",
   "nbconvert_exporter": "python",
   "pygments_lexer": "ipython3",
   "version": "3.8.5"
  }
 },
 "nbformat": 4,
 "nbformat_minor": 4
}
